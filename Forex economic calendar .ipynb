{
 "cells": [
  {
   "cell_type": "markdown",
   "id": "058d426f",
   "metadata": {},
   "source": [
    "History of economic calendar events from https://www.forexfactory.com/calendar"
   ]
  },
  {
   "cell_type": "code",
   "execution_count": 6,
   "id": "ee690378",
   "metadata": {},
   "outputs": [],
   "source": [
    "# Import libraries\n",
    "import pandas as pd\n",
    "import numpy as np\n",
    "import regex as re\n",
    "\n",
    "import requests\n",
    "from bs4 import BeautifulSoup as BS\n",
    "from selenium import webdriver\n",
    "from webdriver_manager.chrome import ChromeDriverManager\n",
    "import time"
   ]
  },
  {
   "cell_type": "code",
   "execution_count": 7,
   "id": "4437a918",
   "metadata": {},
   "outputs": [],
   "source": [
    "# Determine the beginning and end of the date for parsing\n",
    "date_start = '1/1/2007'\n",
    "date_end = '3/13/2023'"
   ]
  },
  {
   "cell_type": "code",
   "execution_count": 8,
   "id": "19674b64",
   "metadata": {},
   "outputs": [
    {
     "name": "stderr",
     "output_type": "stream",
     "text": [
      "c:\\users\\begla\\appdata\\local\\programs\\python\\python37\\lib\\site-packages\\ipykernel_launcher.py:10: DeprecationWarning: executable_path has been deprecated, please pass in a Service object\n",
      "  # Remove the CWD from sys.path while we load stuff.\n"
     ]
    }
   ],
   "source": [
    "# Create dataframe for our data\n",
    "df = pd.DataFrame(columns = ('year', 'day', 'time', 'impact', 'cur', 'text', 'actual', 'forecast', 'previous'))\n",
    "\n",
    "# Create circle for every day\n",
    "for i in pd.date_range(start=date_start, end=date_end):\n",
    "# Create url address and parsing data of current day \n",
    "    month = i.month_name().lower()[:3]\n",
    "    date = month + str(i.day) + '.' + str(i.year)\n",
    "    url = \"https://www.forexfactory.com/calendar?day=\" + date\n",
    "    driver = webdriver.Chrome(ChromeDriverManager().install())\n",
    "    driver.get(url)\n",
    "    html = driver.page_source\n",
    "    soup = BS(html, \"html.parser\")\n",
    "    \n",
    "#  Correcting the data\n",
    "    day = soup.find_all('td', class_='calendar__cell calendar__date date')\n",
    "    time = soup.find_all('td', class_='calendar__cell calendar__time time')\n",
    "    impact = soup.find_all('div', class_='calendar__impact-icon calendar__impact-icon--screen')\n",
    "    text = soup.find_all('td', class_='calendar__cell calendar__event event')\n",
    "    cur = soup.find_all('td', class_='calendar__cell calendar__currency currency')\n",
    "    actual = soup.find_all('td', class_='calendar__cell calendar__actual actual')\n",
    "    forecast = soup.find_all('td', class_='calendar__cell calendar__forecast forecast')\n",
    "    previous = soup.find_all('td', class_='calendar__cell calendar__previous previous')\n",
    "\n",
    "    day_arr = [i.text.strip()[3:] for i in day]\n",
    "    time_arr = [i.text.strip() for i in time]\n",
    "    impact_arr = [re.findall(r'<span class=\"(\\w*)\"', str(i))[0] for i in impact]\n",
    "    text_arr = [i.text.strip() for i in text]\n",
    "    cur_arr = [i.text.strip() for i in cur]\n",
    "    actual_arr = [i.text.strip() for i in actual]\n",
    "    forecast_arr = [i.text.strip() for i in forecast]\n",
    "    previous_arr = [i.text.strip() for i in previous]\n",
    "\n",
    "# Create dataframe for current day's data    \n",
    "    df1 = pd.DataFrame(data=zip(day_arr, time_arr, impact_arr, cur_arr, text_arr, actual_arr, forecast_arr, previous_arr),\n",
    "                     columns = ('day', 'time', 'impact', 'cur', 'text', 'actual', 'forecast', 'previous'))\n",
    "    df1 = df1.applymap(lambda x: np.NaN if x.strip() == '' else x)\n",
    "    \n",
    "# Add 'year', 'day' and 'time' columns\n",
    "    df1['year'] = i.year\n",
    "    df1[['day', 'time']] = df1[['day', 'time']].fillna(method='ffill')\n",
    "    \n",
    "# Add current day data to main dataframe\n",
    "    df = df.append(df1, ignore_index=True)\n"
   ]
  },
  {
   "cell_type": "code",
   "execution_count": 9,
   "id": "7d6da23a",
   "metadata": {},
   "outputs": [
    {
     "data": {
      "text/html": [
       "<div>\n",
       "<style scoped>\n",
       "    .dataframe tbody tr th:only-of-type {\n",
       "        vertical-align: middle;\n",
       "    }\n",
       "\n",
       "    .dataframe tbody tr th {\n",
       "        vertical-align: top;\n",
       "    }\n",
       "\n",
       "    .dataframe thead th {\n",
       "        text-align: right;\n",
       "    }\n",
       "</style>\n",
       "<table border=\"1\" class=\"dataframe\">\n",
       "  <thead>\n",
       "    <tr style=\"text-align: right;\">\n",
       "      <th></th>\n",
       "      <th>year</th>\n",
       "      <th>day</th>\n",
       "      <th>time</th>\n",
       "      <th>impact</th>\n",
       "      <th>cur</th>\n",
       "      <th>text</th>\n",
       "      <th>actual</th>\n",
       "      <th>forecast</th>\n",
       "      <th>previous</th>\n",
       "    </tr>\n",
       "  </thead>\n",
       "  <tbody>\n",
       "    <tr>\n",
       "      <th>0</th>\n",
       "      <td>2022</td>\n",
       "      <td>Jan 16</td>\n",
       "      <td>6:50pm</td>\n",
       "      <td>low</td>\n",
       "      <td>JPY</td>\n",
       "      <td>Core Machinery Orders m/m</td>\n",
       "      <td>3.4%</td>\n",
       "      <td>1.3%</td>\n",
       "      <td>3.8%</td>\n",
       "    </tr>\n",
       "    <tr>\n",
       "      <th>1</th>\n",
       "      <td>2022</td>\n",
       "      <td>Jan 16</td>\n",
       "      <td>7:01pm</td>\n",
       "      <td>low</td>\n",
       "      <td>GBP</td>\n",
       "      <td>Rightmove HPI m/m</td>\n",
       "      <td>0.3%</td>\n",
       "      <td>NaN</td>\n",
       "      <td>-0.7%</td>\n",
       "    </tr>\n",
       "    <tr>\n",
       "      <th>2</th>\n",
       "      <td>2022</td>\n",
       "      <td>Jan 16</td>\n",
       "      <td>9:00pm</td>\n",
       "      <td>high</td>\n",
       "      <td>CNY</td>\n",
       "      <td>GDP q/y</td>\n",
       "      <td>4.0%</td>\n",
       "      <td>3.3%</td>\n",
       "      <td>4.9%</td>\n",
       "    </tr>\n",
       "    <tr>\n",
       "      <th>3</th>\n",
       "      <td>2022</td>\n",
       "      <td>Jan 16</td>\n",
       "      <td>9:00pm</td>\n",
       "      <td>medium</td>\n",
       "      <td>CNY</td>\n",
       "      <td>Retail Sales y/y</td>\n",
       "      <td>1.7%</td>\n",
       "      <td>3.8%</td>\n",
       "      <td>3.9%</td>\n",
       "    </tr>\n",
       "    <tr>\n",
       "      <th>4</th>\n",
       "      <td>2022</td>\n",
       "      <td>Jan 16</td>\n",
       "      <td>9:00pm</td>\n",
       "      <td>low</td>\n",
       "      <td>CNY</td>\n",
       "      <td>Fixed Asset Investment ytd/y</td>\n",
       "      <td>4.9%</td>\n",
       "      <td>4.9%</td>\n",
       "      <td>5.2%</td>\n",
       "    </tr>\n",
       "  </tbody>\n",
       "</table>\n",
       "</div>"
      ],
      "text/plain": [
       "   year     day    time  impact  cur                          text actual  \\\n",
       "0  2022  Jan 16  6:50pm     low  JPY     Core Machinery Orders m/m   3.4%   \n",
       "1  2022  Jan 16  7:01pm     low  GBP             Rightmove HPI m/m   0.3%   \n",
       "2  2022  Jan 16  9:00pm    high  CNY                       GDP q/y   4.0%   \n",
       "3  2022  Jan 16  9:00pm  medium  CNY              Retail Sales y/y   1.7%   \n",
       "4  2022  Jan 16  9:00pm     low  CNY  Fixed Asset Investment ytd/y   4.9%   \n",
       "\n",
       "  forecast previous  \n",
       "0     1.3%     3.8%  \n",
       "1      NaN    -0.7%  \n",
       "2     3.3%     4.9%  \n",
       "3     3.8%     3.9%  \n",
       "4     4.9%     5.2%  "
      ]
     },
     "execution_count": 9,
     "metadata": {},
     "output_type": "execute_result"
    }
   ],
   "source": [
    "# Look on our dataframe\n",
    "df.head()"
   ]
  },
  {
   "cell_type": "code",
   "execution_count": 10,
   "id": "36b3508e",
   "metadata": {},
   "outputs": [],
   "source": [
    "# Import data in csv file\n",
    "df.to_csv(\"data.csv\", index=False)"
   ]
  }
 ],
 "metadata": {
  "kernelspec": {
   "display_name": "Python 3 (ipykernel)",
   "language": "python",
   "name": "python3"
  },
  "language_info": {
   "codemirror_mode": {
    "name": "ipython",
    "version": 3
   },
   "file_extension": ".py",
   "mimetype": "text/x-python",
   "name": "python",
   "nbconvert_exporter": "python",
   "pygments_lexer": "ipython3",
   "version": "3.7.9"
  }
 },
 "nbformat": 4,
 "nbformat_minor": 5
}
